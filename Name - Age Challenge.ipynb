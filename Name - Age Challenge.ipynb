{
 "cells": [
  {
   "cell_type": "markdown",
   "metadata": {},
   "source": [
    "#### Name - Age Challenge Rules:\n",
    "\n",
    "###### THE USER WILL ENTER TEN NAMES AND THEIR DATES OF BIRTH, AND THE COMPUTER HAS TO DISPLAY THE SAME NAMES AND THEIR CORRESPONDING AGES."
   ]
  },
  {
   "cell_type": "code",
   "execution_count": null,
   "metadata": {
    "collapsed": true
   },
   "outputs": [],
   "source": [
    "                   #Version 1\n",
    "\n",
    "\n",
    "x = 1\n",
    "names = []\n",
    "dobs = []\n",
    "\n",
    "while x < 11:\n",
    "    a = input(\"Name:\")\n",
    "    b = int(input(\"DOB(Only the Year):\"))\n",
    "    x+=1\n",
    "    names.append(a)\n",
    "    dobs.append(b)\n",
    "    \n",
    "y = 0\n",
    "\n",
    "while y < 10:\n",
    "    print(*names[y], 2019 - dobs[y])\n",
    "    y+=1"
   ]
  },
  {
   "cell_type": "code",
   "execution_count": 1,
   "metadata": {},
   "outputs": [
    {
     "name": "stdout",
     "output_type": "stream",
     "text": [
      "Name:a\n",
      "DOB(MM-DD-YYYY):02-27-2008\n",
      "Name:b\n",
      "DOB(MM-DD-YYYY):08-12-2009\n",
      "Name:c\n",
      "DOB(MM-DD-YYYY):09-24-1978\n",
      "a:\n",
      "You are 11 years,\n",
      "3 months,\n",
      "and 23 days.\n",
      "b:\n",
      "You are 9 years,\n",
      "10 months,\n",
      "and 7 days.\n",
      "c:\n",
      "You are 40 years,\n",
      "8 months,\n",
      "and 26 days.\n"
     ]
    }
   ],
   "source": [
    "                   #Version 2\n",
    "\n",
    "from dateutil.relativedelta import relativedelta\n",
    "import datetime\n",
    "\n",
    "x = 1\n",
    "names = []\n",
    "dobs = []\n",
    "\n",
    "while x < 4:\n",
    "    a = input(\"Name:\")\n",
    "    b = input(\"DOB(MM-DD-YYYY):\")\n",
    "    x+=1\n",
    "    names.append(a)\n",
    "    dobs.append(b)\n",
    "    \n",
    "y = 0\n",
    "nowadays = datetime.date.today()\n",
    "#print(nowadays)\n",
    "\n",
    "while y < 3:\n",
    "    yourbirth = dobs[y]\n",
    "    #print(type(yourbirth))\n",
    "    datetime_obj = datetime.datetime.strptime(yourbirth, \"%m-%d-%Y\")\n",
    "    #print(datetime_obj.date())\n",
    "    #print(*names[y], nowadays - datetime_obj.date())\n",
    "    \n",
    "    rdelta = relativedelta(nowadays, datetime_obj.date())\n",
    "    print(f'{names[y]}:')\n",
    "    print(f'You are {rdelta.years} years,')\n",
    "    print(f'{rdelta.months} months,')\n",
    "    print(f'and {rdelta.days} days.')\n",
    "    \n",
    "    y+=1"
   ]
  },
  {
   "cell_type": "code",
   "execution_count": 7,
   "metadata": {},
   "outputs": [
    {
     "name": "stdout",
     "output_type": "stream",
     "text": [
      "Name:a\n",
      "DOB(MM-DD-YYYY):02-27-2008\n",
      "Name:b\n",
      "DOB(MM-DD-YYYY):08-12-2009\n",
      "a:\n",
      "You are 11 years,\n",
      "3 months,\n",
      "and 12 days.\n"
     ]
    },
    {
     "ename": "IndexError",
     "evalue": "string index out of range",
     "output_type": "error",
     "traceback": [
      "\u001b[1;31m---------------------------------------------------------------------------\u001b[0m",
      "\u001b[1;31mIndexError\u001b[0m                                Traceback (most recent call last)",
      "\u001b[1;32m<ipython-input-7-eadaf5fe835e>\u001b[0m in \u001b[0;36m<module>\u001b[1;34m()\u001b[0m\n\u001b[0;32m     27\u001b[0m     \u001b[1;31m#print(datetime_obj.date())\u001b[0m\u001b[1;33m\u001b[0m\u001b[1;33m\u001b[0m\u001b[0m\n\u001b[0;32m     28\u001b[0m     \u001b[1;31m#print(*names[y], nowadays - datetime_obj.date())\u001b[0m\u001b[1;33m\u001b[0m\u001b[1;33m\u001b[0m\u001b[0m\n\u001b[1;32m---> 29\u001b[1;33m     \u001b[0md\u001b[0m \u001b[1;33m=\u001b[0m \u001b[1;33m{\u001b[0m\u001b[0mb\u001b[0m\u001b[1;33m[\u001b[0m\u001b[0my\u001b[0m\u001b[1;33m]\u001b[0m\u001b[1;33m:\u001b[0m\u001b[0ma\u001b[0m\u001b[1;33m[\u001b[0m\u001b[0my\u001b[0m\u001b[1;33m]\u001b[0m\u001b[1;33m}\u001b[0m\u001b[1;33m\u001b[0m\u001b[0m\n\u001b[0m\u001b[0;32m     30\u001b[0m     \u001b[0msorted_d\u001b[0m \u001b[1;33m=\u001b[0m \u001b[0mdict\u001b[0m\u001b[1;33m(\u001b[0m \u001b[0msorted\u001b[0m\u001b[1;33m(\u001b[0m\u001b[0md\u001b[0m\u001b[1;33m.\u001b[0m\u001b[0mitems\u001b[0m\u001b[1;33m(\u001b[0m\u001b[1;33m)\u001b[0m\u001b[1;33m,\u001b[0m \u001b[0mkey\u001b[0m\u001b[1;33m=\u001b[0m\u001b[0moperator\u001b[0m\u001b[1;33m.\u001b[0m\u001b[0mitemgetter\u001b[0m\u001b[1;33m(\u001b[0m\u001b[1;36m0\u001b[0m\u001b[1;33m)\u001b[0m\u001b[1;33m,\u001b[0m\u001b[0mreverse\u001b[0m\u001b[1;33m=\u001b[0m\u001b[1;32mTrue\u001b[0m\u001b[1;33m)\u001b[0m\u001b[1;33m)\u001b[0m\u001b[1;33m\u001b[0m\u001b[0m\n\u001b[0;32m     31\u001b[0m     \u001b[1;31m#print('Dictionary in descending order by value : ',sorted_d)\u001b[0m\u001b[1;33m\u001b[0m\u001b[1;33m\u001b[0m\u001b[0m\n",
      "\u001b[1;31mIndexError\u001b[0m: string index out of range"
     ]
    }
   ],
   "source": [
    "            #Version 3\n",
    "\n",
    "from dateutil.relativedelta import relativedelta\n",
    "import datetime\n",
    "import operator\n",
    "\n",
    "x = 1\n",
    "names = []\n",
    "dobs = []\n",
    "\n",
    "while x < 3:\n",
    "    a = input(\"Name:\")\n",
    "    b = input(\"DOB(MM-DD-YYYY):\")\n",
    "    x+=1\n",
    "    names.append(a)\n",
    "    dobs.append(b)\n",
    "    \n",
    "\n",
    "y = 0\n",
    "nowadays = datetime.date.today()\n",
    "#print(nowadays)\n",
    "\n",
    "while y < 2:\n",
    "    yourbirth = dobs[y]\n",
    "    #print(type(yourbirth))\n",
    "    datetime_obj = datetime.datetime.strptime(yourbirth, \"%m-%d-%Y\")\n",
    "    #print(datetime_obj.date())\n",
    "    #print(*names[y], nowadays - datetime_obj.date())\n",
    "    d = {b[y]:a[y]}\n",
    "    sorted_d = dict( sorted(d.items(), key=operator.itemgetter(0),reverse=True))\n",
    "    #print('Dictionary in descending order by value : ',sorted_d)\n",
    "    \n",
    "    rdelta = relativedelta(nowadays, datetime_obj.date())\n",
    "    print(f'{names[y]}:')\n",
    "    print(f'You are {rdelta.years} years,')\n",
    "    print(f'{rdelta.months} months,')\n",
    "    print(f'and {rdelta.days} days.')\n",
    "    \n",
    "    y+=1"
   ]
  },
  {
   "cell_type": "code",
   "execution_count": 1,
   "metadata": {
    "collapsed": true
   },
   "outputs": [],
   "source": [
    "qwertyuiop = [2,9,3,8,4,7,5,6,1,0]"
   ]
  },
  {
   "cell_type": "code",
   "execution_count": 4,
   "metadata": {
    "collapsed": true
   },
   "outputs": [],
   "source": [
    "qwertyuiop.sort()"
   ]
  },
  {
   "cell_type": "code",
   "execution_count": 5,
   "metadata": {},
   "outputs": [
    {
     "data": {
      "text/plain": [
       "[0, 1, 2, 3, 4, 5, 6, 7, 8, 9]"
      ]
     },
     "execution_count": 5,
     "metadata": {},
     "output_type": "execute_result"
    }
   ],
   "source": [
    "qwertyuiop"
   ]
  },
  {
   "cell_type": "code",
   "execution_count": 2,
   "metadata": {
    "collapsed": true
   },
   "outputs": [],
   "source": [
    "movie_theater = {'Aladdin':6.75, 'Dumbo':4.50}"
   ]
  },
  {
   "cell_type": "code",
   "execution_count": 2,
   "metadata": {
    "collapsed": true
   },
   "outputs": [],
   "source": [
    "newlist = lambda k: movie_theater.sort()"
   ]
  },
  {
   "cell_type": "code",
   "execution_count": 3,
   "metadata": {},
   "outputs": [
    {
     "ename": "TypeError",
     "evalue": "<lambda>() missing 1 required positional argument: 'k'",
     "output_type": "error",
     "traceback": [
      "\u001b[1;31m---------------------------------------------------------------------------\u001b[0m",
      "\u001b[1;31mTypeError\u001b[0m                                 Traceback (most recent call last)",
      "\u001b[1;32m<ipython-input-3-23af845f6f4b>\u001b[0m in \u001b[0;36m<module>\u001b[1;34m()\u001b[0m\n\u001b[1;32m----> 1\u001b[1;33m \u001b[0mnewlist\u001b[0m\u001b[1;33m(\u001b[0m\u001b[1;33m)\u001b[0m\u001b[1;33m\u001b[0m\u001b[0m\n\u001b[0m",
      "\u001b[1;31mTypeError\u001b[0m: <lambda>() missing 1 required positional argument: 'k'"
     ]
    }
   ],
   "source": [
    "newlist()"
   ]
  },
  {
   "cell_type": "code",
   "execution_count": 8,
   "metadata": {},
   "outputs": [
    {
     "name": "stdout",
     "output_type": "stream",
     "text": [
      "Original dictionary :  {datetime.date(2019, 6, 8): 2, 3: 4, 4: 3, 2: 1, 0: 0}\n"
     ]
    },
    {
     "ename": "TypeError",
     "evalue": "'<' not supported between instances of 'int' and 'datetime.date'",
     "output_type": "error",
     "traceback": [
      "\u001b[1;31m---------------------------------------------------------------------------\u001b[0m",
      "\u001b[1;31mTypeError\u001b[0m                                 Traceback (most recent call last)",
      "\u001b[1;32m<ipython-input-8-5a8c8cacbe61>\u001b[0m in \u001b[0;36m<module>\u001b[1;34m()\u001b[0m\n\u001b[0;32m      3\u001b[0m \u001b[0md\u001b[0m \u001b[1;33m=\u001b[0m \u001b[1;33m{\u001b[0m\u001b[0mdatetime\u001b[0m\u001b[1;33m.\u001b[0m\u001b[0mdate\u001b[0m\u001b[1;33m.\u001b[0m\u001b[0mtoday\u001b[0m\u001b[1;33m(\u001b[0m\u001b[1;33m)\u001b[0m\u001b[1;33m:\u001b[0m \u001b[1;36m2\u001b[0m\u001b[1;33m,\u001b[0m \u001b[1;36m3\u001b[0m\u001b[1;33m:\u001b[0m \u001b[1;36m4\u001b[0m\u001b[1;33m,\u001b[0m \u001b[1;36m4\u001b[0m\u001b[1;33m:\u001b[0m \u001b[1;36m3\u001b[0m\u001b[1;33m,\u001b[0m \u001b[1;36m2\u001b[0m\u001b[1;33m:\u001b[0m \u001b[1;36m1\u001b[0m\u001b[1;33m,\u001b[0m \u001b[1;36m0\u001b[0m\u001b[1;33m:\u001b[0m \u001b[1;36m0\u001b[0m\u001b[1;33m}\u001b[0m\u001b[1;33m\u001b[0m\u001b[0m\n\u001b[0;32m      4\u001b[0m \u001b[0mprint\u001b[0m\u001b[1;33m(\u001b[0m\u001b[1;34m'Original dictionary : '\u001b[0m\u001b[1;33m,\u001b[0m\u001b[0md\u001b[0m\u001b[1;33m)\u001b[0m\u001b[1;33m\u001b[0m\u001b[0m\n\u001b[1;32m----> 5\u001b[1;33m \u001b[0msorted_d\u001b[0m \u001b[1;33m=\u001b[0m \u001b[0msorted\u001b[0m\u001b[1;33m(\u001b[0m\u001b[0md\u001b[0m\u001b[1;33m.\u001b[0m\u001b[0mitems\u001b[0m\u001b[1;33m(\u001b[0m\u001b[1;33m)\u001b[0m\u001b[1;33m,\u001b[0m \u001b[0mkey\u001b[0m\u001b[1;33m=\u001b[0m\u001b[0moperator\u001b[0m\u001b[1;33m.\u001b[0m\u001b[0mitemgetter\u001b[0m\u001b[1;33m(\u001b[0m\u001b[1;36m0\u001b[0m\u001b[1;33m)\u001b[0m\u001b[1;33m)\u001b[0m\u001b[1;33m\u001b[0m\u001b[0m\n\u001b[0m\u001b[0;32m      6\u001b[0m \u001b[0mprint\u001b[0m\u001b[1;33m(\u001b[0m\u001b[1;34m'Dictionary in ascending order by value : '\u001b[0m\u001b[1;33m,\u001b[0m\u001b[0msorted_d\u001b[0m\u001b[1;33m)\u001b[0m\u001b[1;33m\u001b[0m\u001b[0m\n\u001b[0;32m      7\u001b[0m \u001b[1;33m\u001b[0m\u001b[0m\n",
      "\u001b[1;31mTypeError\u001b[0m: '<' not supported between instances of 'int' and 'datetime.date'"
     ]
    }
   ],
   "source": [
    "import operator\n",
    "import datetime\n",
    "d = {datetime.date.today(): 2, 3: 4, 4: 3, 2: 1, 0: 0}\n",
    "print('Original dictionary : ',d)\n",
    "sorted_d = sorted(d.items(), key=operator.itemgetter(0))\n",
    "print('Dictionary in ascending order by value : ',sorted_d)\n",
    "\n",
    "sorted_d = dict( sorted(d.items(), key=operator.itemgetter(0),reverse=True))\n",
    "print('Dictionary in descending order by value : ',sorted_d)"
   ]
  },
  {
   "cell_type": "code",
   "execution_count": null,
   "metadata": {
    "collapsed": true
   },
   "outputs": [],
   "source": []
  }
 ],
 "metadata": {
  "kernelspec": {
   "display_name": "Python 3",
   "language": "python",
   "name": "python3"
  },
  "language_info": {
   "codemirror_mode": {
    "name": "ipython",
    "version": 3
   },
   "file_extension": ".py",
   "mimetype": "text/x-python",
   "name": "python",
   "nbconvert_exporter": "python",
   "pygments_lexer": "ipython3",
   "version": "3.6.3"
  }
 },
 "nbformat": 4,
 "nbformat_minor": 2
}
